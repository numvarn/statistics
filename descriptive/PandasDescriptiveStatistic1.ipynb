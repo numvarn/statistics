{
 "cells": [
  {
   "cell_type": "markdown",
   "metadata": {},
   "source": [
    "# การประมวลผลแบบสอบถามเพื่อหาค่า Mean และ Standard Deviation"
   ]
  },
  {
   "cell_type": "code",
   "execution_count": 17,
   "metadata": {
    "collapsed": true
   },
   "outputs": [],
   "source": [
    "import pandas as pd\n",
    "import numpy as np\n",
    "import math"
   ]
  },
  {
   "cell_type": "code",
   "execution_count": 18,
   "metadata": {
    "collapsed": true
   },
   "outputs": [],
   "source": [
    "df = pd.read_csv('~/ResearchCode/NoteBook/Stats/descriptive/data/25986_data_head.csv')"
   ]
  },
  {
   "cell_type": "code",
   "execution_count": 19,
   "metadata": {},
   "outputs": [
    {
     "data": {
      "text/html": [
       "<div>\n",
       "<style>\n",
       "    .dataframe thead tr:only-child th {\n",
       "        text-align: right;\n",
       "    }\n",
       "\n",
       "    .dataframe thead th {\n",
       "        text-align: left;\n",
       "    }\n",
       "\n",
       "    .dataframe tbody tr th {\n",
       "        vertical-align: top;\n",
       "    }\n",
       "</style>\n",
       "<table border=\"1\" class=\"dataframe\">\n",
       "  <thead>\n",
       "    <tr style=\"text-align: right;\">\n",
       "      <th></th>\n",
       "      <th>id</th>\n",
       "      <th>department</th>\n",
       "      <th>status</th>\n",
       "      <th>a1</th>\n",
       "      <th>a2</th>\n",
       "      <th>a3</th>\n",
       "      <th>a4</th>\n",
       "      <th>a5</th>\n",
       "      <th>a6</th>\n",
       "      <th>a7</th>\n",
       "      <th>...</th>\n",
       "      <th>a11</th>\n",
       "      <th>a12</th>\n",
       "      <th>a13</th>\n",
       "      <th>a14</th>\n",
       "      <th>a15</th>\n",
       "      <th>a16</th>\n",
       "      <th>a17</th>\n",
       "      <th>a18</th>\n",
       "      <th>a19</th>\n",
       "      <th>a20</th>\n",
       "    </tr>\n",
       "  </thead>\n",
       "  <tbody>\n",
       "    <tr>\n",
       "      <th>0</th>\n",
       "      <td>1</td>\n",
       "      <td>งานอธิการบดี</td>\n",
       "      <td>3</td>\n",
       "      <td>5</td>\n",
       "      <td>5</td>\n",
       "      <td>5</td>\n",
       "      <td>5</td>\n",
       "      <td>5</td>\n",
       "      <td>5</td>\n",
       "      <td>5</td>\n",
       "      <td>...</td>\n",
       "      <td>5</td>\n",
       "      <td>5</td>\n",
       "      <td>5</td>\n",
       "      <td>5</td>\n",
       "      <td>5</td>\n",
       "      <td>5</td>\n",
       "      <td>5.0</td>\n",
       "      <td>5</td>\n",
       "      <td>5.0</td>\n",
       "      <td>5</td>\n",
       "    </tr>\n",
       "    <tr>\n",
       "      <th>1</th>\n",
       "      <td>2</td>\n",
       "      <td>งานอธิการบดี</td>\n",
       "      <td>3</td>\n",
       "      <td>4</td>\n",
       "      <td>3</td>\n",
       "      <td>4</td>\n",
       "      <td>5</td>\n",
       "      <td>4</td>\n",
       "      <td>5</td>\n",
       "      <td>5</td>\n",
       "      <td>...</td>\n",
       "      <td>5</td>\n",
       "      <td>5</td>\n",
       "      <td>5</td>\n",
       "      <td>5</td>\n",
       "      <td>5</td>\n",
       "      <td>5</td>\n",
       "      <td>4.0</td>\n",
       "      <td>4</td>\n",
       "      <td>5.0</td>\n",
       "      <td>5</td>\n",
       "    </tr>\n",
       "    <tr>\n",
       "      <th>2</th>\n",
       "      <td>3</td>\n",
       "      <td>งานอธิการบดี</td>\n",
       "      <td>1</td>\n",
       "      <td>5</td>\n",
       "      <td>4</td>\n",
       "      <td>5</td>\n",
       "      <td>5</td>\n",
       "      <td>5</td>\n",
       "      <td>5</td>\n",
       "      <td>4</td>\n",
       "      <td>...</td>\n",
       "      <td>5</td>\n",
       "      <td>5</td>\n",
       "      <td>4</td>\n",
       "      <td>5</td>\n",
       "      <td>5</td>\n",
       "      <td>5</td>\n",
       "      <td>5.0</td>\n",
       "      <td>4</td>\n",
       "      <td>5.0</td>\n",
       "      <td>5</td>\n",
       "    </tr>\n",
       "    <tr>\n",
       "      <th>3</th>\n",
       "      <td>4</td>\n",
       "      <td>งานอธิการบดี</td>\n",
       "      <td>3</td>\n",
       "      <td>4</td>\n",
       "      <td>3</td>\n",
       "      <td>2</td>\n",
       "      <td>2</td>\n",
       "      <td>2</td>\n",
       "      <td>2</td>\n",
       "      <td>2</td>\n",
       "      <td>...</td>\n",
       "      <td>2</td>\n",
       "      <td>2</td>\n",
       "      <td>2</td>\n",
       "      <td>3</td>\n",
       "      <td>2</td>\n",
       "      <td>1</td>\n",
       "      <td>1.0</td>\n",
       "      <td>1</td>\n",
       "      <td>1.0</td>\n",
       "      <td>1</td>\n",
       "    </tr>\n",
       "    <tr>\n",
       "      <th>4</th>\n",
       "      <td>5</td>\n",
       "      <td>งานอธิการบดี</td>\n",
       "      <td>3</td>\n",
       "      <td>4</td>\n",
       "      <td>4</td>\n",
       "      <td>4</td>\n",
       "      <td>4</td>\n",
       "      <td>4</td>\n",
       "      <td>4</td>\n",
       "      <td>4</td>\n",
       "      <td>...</td>\n",
       "      <td>4</td>\n",
       "      <td>4</td>\n",
       "      <td>4</td>\n",
       "      <td>4</td>\n",
       "      <td>4</td>\n",
       "      <td>4</td>\n",
       "      <td>4.0</td>\n",
       "      <td>4</td>\n",
       "      <td>4.0</td>\n",
       "      <td>4</td>\n",
       "    </tr>\n",
       "  </tbody>\n",
       "</table>\n",
       "<p>5 rows × 23 columns</p>\n",
       "</div>"
      ],
      "text/plain": [
       "   id    department  status  a1  a2  a3  a4  a5  a6  a7 ...   a11  a12  a13  \\\n",
       "0   1  งานอธิการบดี       3   5   5   5   5   5   5   5 ...     5    5    5   \n",
       "1   2  งานอธิการบดี       3   4   3   4   5   4   5   5 ...     5    5    5   \n",
       "2   3  งานอธิการบดี       1   5   4   5   5   5   5   4 ...     5    5    4   \n",
       "3   4  งานอธิการบดี       3   4   3   2   2   2   2   2 ...     2    2    2   \n",
       "4   5  งานอธิการบดี       3   4   4   4   4   4   4   4 ...     4    4    4   \n",
       "\n",
       "   a14  a15  a16  a17  a18  a19  a20  \n",
       "0    5    5    5  5.0    5  5.0    5  \n",
       "1    5    5    5  4.0    4  5.0    5  \n",
       "2    5    5    5  5.0    4  5.0    5  \n",
       "3    3    2    1  1.0    1  1.0    1  \n",
       "4    4    4    4  4.0    4  4.0    4  \n",
       "\n",
       "[5 rows x 23 columns]"
      ]
     },
     "execution_count": 19,
     "metadata": {},
     "output_type": "execute_result"
    }
   ],
   "source": [
    "df.head()"
   ]
  },
  {
   "cell_type": "markdown",
   "metadata": {},
   "source": [
    "### ตรวจสอบคุณลักษณะของข้อมูล"
   ]
  },
  {
   "cell_type": "code",
   "execution_count": 20,
   "metadata": {},
   "outputs": [
    {
     "data": {
      "text/plain": [
       "id              int64\n",
       "department     object\n",
       "status          int64\n",
       "a1              int64\n",
       "a2              int64\n",
       "a3              int64\n",
       "a4              int64\n",
       "a5              int64\n",
       "a6              int64\n",
       "a7              int64\n",
       "a8              int64\n",
       "a9              int64\n",
       "a10             int64\n",
       "a11             int64\n",
       "a12             int64\n",
       "a13             int64\n",
       "a14             int64\n",
       "a15             int64\n",
       "a16             int64\n",
       "a17           float64\n",
       "a18             int64\n",
       "a19           float64\n",
       "a20             int64\n",
       "dtype: object"
      ]
     },
     "execution_count": 20,
     "metadata": {},
     "output_type": "execute_result"
    }
   ],
   "source": [
    "df.dtypes"
   ]
  },
  {
   "cell_type": "code",
   "execution_count": 21,
   "metadata": {},
   "outputs": [
    {
     "name": "stdout",
     "output_type": "stream",
     "text": [
      "<class 'pandas.core.frame.DataFrame'>\n",
      "RangeIndex: 61 entries, 0 to 60\n",
      "Data columns (total 23 columns):\n",
      "id            61 non-null int64\n",
      "department    61 non-null object\n",
      "status        61 non-null int64\n",
      "a1            61 non-null int64\n",
      "a2            61 non-null int64\n",
      "a3            61 non-null int64\n",
      "a4            61 non-null int64\n",
      "a5            61 non-null int64\n",
      "a6            61 non-null int64\n",
      "a7            61 non-null int64\n",
      "a8            61 non-null int64\n",
      "a9            61 non-null int64\n",
      "a10           61 non-null int64\n",
      "a11           61 non-null int64\n",
      "a12           61 non-null int64\n",
      "a13           61 non-null int64\n",
      "a14           61 non-null int64\n",
      "a15           61 non-null int64\n",
      "a16           61 non-null int64\n",
      "a17           60 non-null float64\n",
      "a18           61 non-null int64\n",
      "a19           60 non-null float64\n",
      "a20           61 non-null int64\n",
      "dtypes: float64(2), int64(20), object(1)\n",
      "memory usage: 11.0+ KB\n"
     ]
    }
   ],
   "source": [
    "df.info()"
   ]
  },
  {
   "cell_type": "markdown",
   "metadata": {},
   "source": [
    "### ตรวจสอบ Missing Value ในแต่ละ Column"
   ]
  },
  {
   "cell_type": "code",
   "execution_count": 22,
   "metadata": {},
   "outputs": [
    {
     "data": {
      "text/plain": [
       "id            False\n",
       "department    False\n",
       "status        False\n",
       "a1            False\n",
       "a2            False\n",
       "a3            False\n",
       "a4            False\n",
       "a5            False\n",
       "a6            False\n",
       "a7            False\n",
       "a8            False\n",
       "a9            False\n",
       "a10           False\n",
       "a11           False\n",
       "a12           False\n",
       "a13           False\n",
       "a14           False\n",
       "a15           False\n",
       "a16           False\n",
       "a17            True\n",
       "a18           False\n",
       "a19            True\n",
       "a20           False\n",
       "dtype: bool"
      ]
     },
     "execution_count": 22,
     "metadata": {},
     "output_type": "execute_result"
    }
   ],
   "source": [
    "df.isnull().any()"
   ]
  },
  {
   "cell_type": "markdown",
   "metadata": {},
   "source": [
    "### แทนค่า Missing Value ด้วยค่า mean ของแต่ละ Column"
   ]
  },
  {
   "cell_type": "code",
   "execution_count": 23,
   "metadata": {
    "collapsed": true
   },
   "outputs": [],
   "source": [
    "df[\"a17\"].fillna(df[\"a17\"].mean(), inplace=True)\n",
    "df[\"a19\"].fillna(df[\"a19\"].mean(), inplace=True)"
   ]
  },
  {
   "cell_type": "markdown",
   "metadata": {},
   "source": [
    "ลบ Column ที่ไม่จำเป็นต่อการคำนวนออกไป"
   ]
  },
  {
   "cell_type": "code",
   "execution_count": 24,
   "metadata": {
    "collapsed": true
   },
   "outputs": [],
   "source": [
    "#Delete column by col-name \n",
    "df = df.drop(['id', 'status', 'department'], axis=1)"
   ]
  },
  {
   "cell_type": "code",
   "execution_count": 25,
   "metadata": {},
   "outputs": [
    {
     "name": "stdout",
     "output_type": "stream",
     "text": [
      "              a1         a2         a3         a4         a5         a6  \\\n",
      "count  61.000000  61.000000  61.000000  61.000000  61.000000  61.000000   \n",
      "mean    4.360656   4.196721   4.180328   4.393443   4.229508   4.426230   \n",
      "std     0.548719   0.678716   0.763941   0.639757   0.761434   0.644438   \n",
      "min     3.000000   3.000000   2.000000   2.000000   2.000000   2.000000   \n",
      "25%     4.000000   4.000000   4.000000   4.000000   4.000000   4.000000   \n",
      "50%     4.000000   4.000000   4.000000   4.000000   4.000000   4.000000   \n",
      "75%     5.000000   5.000000   5.000000   5.000000   5.000000   5.000000   \n",
      "max     5.000000   5.000000   5.000000   5.000000   5.000000   5.000000   \n",
      "\n",
      "              a7         a8         a9        a10        a11        a12  \\\n",
      "count  61.000000  61.000000  61.000000  61.000000  61.000000  61.000000   \n",
      "mean    4.098361   4.163934   4.278689   4.213115   4.344262   4.442623   \n",
      "std     0.768221   0.799590   0.710191   0.777062   0.727673   0.695811   \n",
      "min     2.000000   2.000000   3.000000   2.000000   2.000000   2.000000   \n",
      "25%     4.000000   4.000000   4.000000   4.000000   4.000000   4.000000   \n",
      "50%     4.000000   4.000000   4.000000   4.000000   4.000000   5.000000   \n",
      "75%     5.000000   5.000000   5.000000   5.000000   5.000000   5.000000   \n",
      "max     5.000000   5.000000   5.000000   5.000000   5.000000   5.000000   \n",
      "\n",
      "             a13        a14        a15        a16        a17        a18  \\\n",
      "count  61.000000  61.000000  61.000000  61.000000  61.000000  61.000000   \n",
      "mean    4.180328   4.163934   3.934426   4.163934   4.083333   4.147541   \n",
      "std     0.806395   0.756755   0.980966   0.879021   0.842450   0.792382   \n",
      "min     2.000000   3.000000   2.000000   1.000000   1.000000   1.000000   \n",
      "25%     4.000000   4.000000   3.000000   4.000000   4.000000   4.000000   \n",
      "50%     4.000000   4.000000   4.000000   4.000000   4.000000   4.000000   \n",
      "75%     5.000000   5.000000   5.000000   5.000000   5.000000   5.000000   \n",
      "max     5.000000   5.000000   5.000000   5.000000   5.000000   5.000000   \n",
      "\n",
      "             a19        a20  \n",
      "count  61.000000  61.000000  \n",
      "mean    4.100000   4.180328  \n",
      "std     0.830662   0.885216  \n",
      "min     1.000000   1.000000  \n",
      "25%     4.000000   4.000000  \n",
      "50%     4.000000   4.000000  \n",
      "75%     5.000000   5.000000  \n",
      "max     5.000000   5.000000  \n"
     ]
    }
   ],
   "source": [
    "print(df.describe())"
   ]
  },
  {
   "cell_type": "markdown",
   "metadata": {},
   "source": [
    "### ทำการหาค่า Mean และ Std ของแต่ละ Column"
   ]
  },
  {
   "cell_type": "code",
   "execution_count": 26,
   "metadata": {
    "collapsed": true
   },
   "outputs": [],
   "source": [
    "result = {'Mean': pd.Series(df.mean()), 'SD': pd.Series(df.std())}"
   ]
  },
  {
   "cell_type": "code",
   "execution_count": 27,
   "metadata": {},
   "outputs": [
    {
     "data": {
      "text/html": [
       "<div>\n",
       "<style>\n",
       "    .dataframe thead tr:only-child th {\n",
       "        text-align: right;\n",
       "    }\n",
       "\n",
       "    .dataframe thead th {\n",
       "        text-align: left;\n",
       "    }\n",
       "\n",
       "    .dataframe tbody tr th {\n",
       "        vertical-align: top;\n",
       "    }\n",
       "</style>\n",
       "<table border=\"1\" class=\"dataframe\">\n",
       "  <thead>\n",
       "    <tr style=\"text-align: right;\">\n",
       "      <th></th>\n",
       "      <th>Mean</th>\n",
       "      <th>SD</th>\n",
       "    </tr>\n",
       "  </thead>\n",
       "  <tbody>\n",
       "    <tr>\n",
       "      <th>a1</th>\n",
       "      <td>4.360656</td>\n",
       "      <td>0.548719</td>\n",
       "    </tr>\n",
       "    <tr>\n",
       "      <th>a2</th>\n",
       "      <td>4.196721</td>\n",
       "      <td>0.678716</td>\n",
       "    </tr>\n",
       "    <tr>\n",
       "      <th>a3</th>\n",
       "      <td>4.180328</td>\n",
       "      <td>0.763941</td>\n",
       "    </tr>\n",
       "    <tr>\n",
       "      <th>a4</th>\n",
       "      <td>4.393443</td>\n",
       "      <td>0.639757</td>\n",
       "    </tr>\n",
       "    <tr>\n",
       "      <th>a5</th>\n",
       "      <td>4.229508</td>\n",
       "      <td>0.761434</td>\n",
       "    </tr>\n",
       "    <tr>\n",
       "      <th>a6</th>\n",
       "      <td>4.426230</td>\n",
       "      <td>0.644438</td>\n",
       "    </tr>\n",
       "    <tr>\n",
       "      <th>a7</th>\n",
       "      <td>4.098361</td>\n",
       "      <td>0.768221</td>\n",
       "    </tr>\n",
       "    <tr>\n",
       "      <th>a8</th>\n",
       "      <td>4.163934</td>\n",
       "      <td>0.799590</td>\n",
       "    </tr>\n",
       "    <tr>\n",
       "      <th>a9</th>\n",
       "      <td>4.278689</td>\n",
       "      <td>0.710191</td>\n",
       "    </tr>\n",
       "    <tr>\n",
       "      <th>a10</th>\n",
       "      <td>4.213115</td>\n",
       "      <td>0.777062</td>\n",
       "    </tr>\n",
       "    <tr>\n",
       "      <th>a11</th>\n",
       "      <td>4.344262</td>\n",
       "      <td>0.727673</td>\n",
       "    </tr>\n",
       "    <tr>\n",
       "      <th>a12</th>\n",
       "      <td>4.442623</td>\n",
       "      <td>0.695811</td>\n",
       "    </tr>\n",
       "    <tr>\n",
       "      <th>a13</th>\n",
       "      <td>4.180328</td>\n",
       "      <td>0.806395</td>\n",
       "    </tr>\n",
       "    <tr>\n",
       "      <th>a14</th>\n",
       "      <td>4.163934</td>\n",
       "      <td>0.756755</td>\n",
       "    </tr>\n",
       "    <tr>\n",
       "      <th>a15</th>\n",
       "      <td>3.934426</td>\n",
       "      <td>0.980966</td>\n",
       "    </tr>\n",
       "    <tr>\n",
       "      <th>a16</th>\n",
       "      <td>4.163934</td>\n",
       "      <td>0.879021</td>\n",
       "    </tr>\n",
       "    <tr>\n",
       "      <th>a17</th>\n",
       "      <td>4.083333</td>\n",
       "      <td>0.842450</td>\n",
       "    </tr>\n",
       "    <tr>\n",
       "      <th>a18</th>\n",
       "      <td>4.147541</td>\n",
       "      <td>0.792382</td>\n",
       "    </tr>\n",
       "    <tr>\n",
       "      <th>a19</th>\n",
       "      <td>4.100000</td>\n",
       "      <td>0.830662</td>\n",
       "    </tr>\n",
       "    <tr>\n",
       "      <th>a20</th>\n",
       "      <td>4.180328</td>\n",
       "      <td>0.885216</td>\n",
       "    </tr>\n",
       "  </tbody>\n",
       "</table>\n",
       "</div>"
      ],
      "text/plain": [
       "         Mean        SD\n",
       "a1   4.360656  0.548719\n",
       "a2   4.196721  0.678716\n",
       "a3   4.180328  0.763941\n",
       "a4   4.393443  0.639757\n",
       "a5   4.229508  0.761434\n",
       "a6   4.426230  0.644438\n",
       "a7   4.098361  0.768221\n",
       "a8   4.163934  0.799590\n",
       "a9   4.278689  0.710191\n",
       "a10  4.213115  0.777062\n",
       "a11  4.344262  0.727673\n",
       "a12  4.442623  0.695811\n",
       "a13  4.180328  0.806395\n",
       "a14  4.163934  0.756755\n",
       "a15  3.934426  0.980966\n",
       "a16  4.163934  0.879021\n",
       "a17  4.083333  0.842450\n",
       "a18  4.147541  0.792382\n",
       "a19  4.100000  0.830662\n",
       "a20  4.180328  0.885216"
      ]
     },
     "execution_count": 27,
     "metadata": {},
     "output_type": "execute_result"
    }
   ],
   "source": [
    "result_df = pd.DataFrame(result)\n",
    "result_df"
   ]
  },
  {
   "cell_type": "markdown",
   "metadata": {},
   "source": [
    "### แสดงค่า Mean และ Std ของข้อมูลทั้งหมด"
   ]
  },
  {
   "cell_type": "code",
   "execution_count": 28,
   "metadata": {},
   "outputs": [
    {
     "name": "stdout",
     "output_type": "stream",
     "text": [
      "Total Mean is : 4.21\n",
      "Total Std is  : 0.77\n"
     ]
    }
   ],
   "source": [
    "print(\"Total Mean is : %.2f\" %result_df['Mean'].mean())\n",
    "print(\"Total Std is  : %.2f\" %df.stack().std())"
   ]
  },
  {
   "cell_type": "markdown",
   "metadata": {},
   "source": [
    "## ทดสอบค้นหาค่า Standard Deviation โดยใช้โค๊ดจาก Internet"
   ]
  },
  {
   "cell_type": "code",
   "execution_count": 29,
   "metadata": {},
   "outputs": [
    {
     "name": "stdout",
     "output_type": "stream",
     "text": [
      "Total Std is : 0.77\n"
     ]
    }
   ],
   "source": [
    "total_sum = 0\n",
    "mean = result_df['Mean'].mean()\n",
    "\n",
    "length = 0\n",
    "for value in df.stack():\n",
    "    total_sum += (value - mean)**2\n",
    "    length += 1\n",
    "    \n",
    "tot_std = math.sqrt(total_sum/(length))\n",
    "\n",
    "print(\"Total Std is : %.2f\" %tot_std)"
   ]
  },
  {
   "cell_type": "markdown",
   "metadata": {},
   "source": [
    "## ทดสอบค้นหาค่า Standard Deviation ของข้อมูลเอง"
   ]
  },
  {
   "cell_type": "code",
   "execution_count": 30,
   "metadata": {},
   "outputs": [
    {
     "data": {
      "text/plain": [
       "array([[5, 5, 5, ..., 5, 5, 5],\n",
       "       [4, 3, 4, ..., 4, 5, 5],\n",
       "       [5, 4, 5, ..., 4, 5, 5],\n",
       "       ..., \n",
       "       [4, 4, 4, ..., 5, 5, 5],\n",
       "       [4, 4, 4, ..., 4, 4, 5],\n",
       "       [4, 4, 4, ..., 4, 4, 4]])"
      ]
     },
     "execution_count": 30,
     "metadata": {},
     "output_type": "execute_result"
    }
   ],
   "source": [
    "df_matrix = df.astype(int).as_matrix()\n",
    "df_matrix"
   ]
  },
  {
   "cell_type": "code",
   "execution_count": 31,
   "metadata": {},
   "outputs": [
    {
     "name": "stdout",
     "output_type": "stream",
     "text": [
      "Total Std is : 0.76\n"
     ]
    }
   ],
   "source": [
    "row, col = df_matrix.shape\n",
    "\n",
    "total = 0\n",
    "length = 0\n",
    "\n",
    "for i in range(0, col):\n",
    "    mean = np.mean(df_matrix[:, i])\n",
    "    \n",
    "    total_col = 0\n",
    "    for value in df_matrix[:, i]:\n",
    "        total_col += (value - mean)**2\n",
    "        length += 1\n",
    "    \n",
    "    total += total_col\n",
    "    \n",
    "std_sqr = total / length\n",
    "std = math.sqrt(std_sqr)\n",
    "\n",
    "print(\"Total Std is : %.2f\" %std)"
   ]
  },
  {
   "cell_type": "markdown",
   "metadata": {},
   "source": [
    "## ทดสอบค้นหา Standard Deviation โดยใช้ฟังก์ชันของ Matrix"
   ]
  },
  {
   "cell_type": "code",
   "execution_count": 32,
   "metadata": {},
   "outputs": [
    {
     "name": "stdout",
     "output_type": "stream",
     "text": [
      "Total Std is : 0.77\n"
     ]
    }
   ],
   "source": [
    "print(\"Total Std is : %.2f\" %df_matrix.std())"
   ]
  }
 ],
 "metadata": {
  "kernelspec": {
   "display_name": "Python 3",
   "language": "python",
   "name": "python3"
  },
  "language_info": {
   "codemirror_mode": {
    "name": "ipython",
    "version": 3
   },
   "file_extension": ".py",
   "mimetype": "text/x-python",
   "name": "python",
   "nbconvert_exporter": "python",
   "pygments_lexer": "ipython3",
   "version": "3.6.1"
  }
 },
 "nbformat": 4,
 "nbformat_minor": 2
}
