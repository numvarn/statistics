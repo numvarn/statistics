{
 "cells": [
  {
   "cell_type": "code",
   "execution_count": 24,
   "metadata": {},
   "outputs": [],
   "source": [
    "%matplotlib inline\n",
    "\n",
    "import matplotlib.pyplot as plt\n",
    "from sklearn.datasets import load_boston\n",
    "from sklearn.model_selection import cross_val_predict\n",
    "from sklearn import linear_model"
   ]
  },
  {
   "cell_type": "code",
   "execution_count": 25,
   "metadata": {
    "collapsed": true
   },
   "outputs": [],
   "source": [
    "lr = linear_model.LinearRegression()"
   ]
  },
  {
   "cell_type": "code",
   "execution_count": 26,
   "metadata": {
    "collapsed": true
   },
   "outputs": [],
   "source": [
    "boston = load_boston()"
   ]
  },
  {
   "cell_type": "code",
   "execution_count": 27,
   "metadata": {
    "collapsed": true
   },
   "outputs": [],
   "source": [
    "X = boston.data[:150]\n",
    "y = boston.target[:150]"
   ]
  },
  {
   "cell_type": "code",
   "execution_count": 28,
   "metadata": {
    "collapsed": true
   },
   "outputs": [],
   "source": [
    "lr = linear_model.LinearRegression()"
   ]
  },
  {
   "cell_type": "code",
   "execution_count": 31,
   "metadata": {},
   "outputs": [],
   "source": [
    "# cross_val_predict returns an array of the same size as `y` where each entry\n",
    "# is a prediction obtained by cross validation:\n",
    "\n",
    "predicted = cross_val_predict(lr, X, y, cv=10)"
   ]
  },
  {
   "cell_type": "code",
   "execution_count": 32,
   "metadata": {},
   "outputs": [
    {
     "data": {
      "text/plain": [
       "array([ 27.35203077,  22.60253181,  29.55657081,  29.21625527,\n",
       "        29.54975842,  24.06747651,  20.82069105,  19.2077905 ,\n",
       "        14.45222195,  18.35373534,  20.42701924,  19.12237374,\n",
       "        22.00897939,  19.77386783,  18.86798725,  19.64573945,\n",
       "        21.83930094,  18.83118457,  16.23528149,  17.88239236,\n",
       "        13.8285246 ,  18.22445042,  19.14387669,  16.0891962 ,\n",
       "        17.54569087,  13.92762394,  16.64788948,  17.2004851 ,\n",
       "        21.9468255 ,  23.59488031,  15.08831287,  17.47653879,\n",
       "        16.0928032 ,  15.03515568,  16.14903139,  20.61039628,\n",
       "        20.15837985,  21.9371936 ,  23.61134461,  29.0887044 ,\n",
       "        32.8689726 ,  31.40275183,  26.45274279,  26.89270636,\n",
       "        23.10001217,  20.82488708,  21.43414483,  18.72959041,\n",
       "        12.77026787,  17.45389449,  21.53651085,  21.53754032,\n",
       "        27.89283682,  23.95313868,  17.60382433,  32.80311427,\n",
       "        24.79831568,  28.71537337,  23.00827221,  20.32498232,\n",
       "        17.15654654,  16.50529001,  22.5635468 ,  26.2877448 ,\n",
       "        27.58018982,  27.18192203,  22.20241007,  21.17234458,\n",
       "        17.60112622,  20.20056913,  26.42410882,  21.90893468,\n",
       "        23.868604  ,  24.97031861,  25.48269284,  21.22059788,\n",
       "        18.87628762,  20.21927124,  19.96652347,  18.90888282,\n",
       "        28.22285813,  24.56277811,  25.03473013,  22.80382675,\n",
       "        25.28537991,  26.66684768,  22.650249  ,  22.9387193 ,\n",
       "        28.70102311,  30.96600667,  24.49129943,  23.96846948,\n",
       "        24.51622401,  24.99568984,  21.55334661,  24.8529462 ,\n",
       "        21.4392999 ,  33.32850762,  34.53053418,  30.16909493,\n",
       "        23.5793974 ,  24.69284932,  15.3322908 ,  19.04210539,\n",
       "        19.25476604,  16.08355757,  16.20071583,  19.10177663,\n",
       "        21.03221813,  19.21917199,  21.99600097,  24.4190326 ,\n",
       "        17.10649396,  18.16231756,  20.56797244,  16.78453856,\n",
       "        20.77030393,  18.87681004,  17.45335086,  17.75710033,\n",
       "        17.42137713,  17.04338091,  16.06138395,  14.95354884,\n",
       "        15.18538235,  16.63621984,  12.84281933,  13.84335078,\n",
       "        19.43385917,  12.95260917,  19.40435171,  17.59158328,\n",
       "        18.28898332,  14.49802417,  11.0767825 ,  20.33532524,\n",
       "        18.18200569,  22.0154578 ,  17.5176318 ,  18.93166712,\n",
       "        20.324552  ,   5.7308538 ,   8.27433586,   6.05456872,\n",
       "         6.26110637,  16.00217795,  12.56418057,   8.02768111,\n",
       "        10.18862222,  11.97762906])"
      ]
     },
     "execution_count": 32,
     "metadata": {},
     "output_type": "execute_result"
    }
   ],
   "source": [
    "predicted"
   ]
  },
  {
   "cell_type": "code",
   "execution_count": 30,
   "metadata": {},
   "outputs": [
    {
     "data": {
      "image/png": "[encoded data removed]",
      "text/plain": [
       "<matplotlib.figure.Figure at 0x1115f1ba8>"
      ]
     },
     "metadata": {},
     "output_type": "display_data"
    }
   ],
   "source": [
    "fig, ax = plt.subplots()\n",
    "ax.scatter(y, predicted, edgecolors=(0, 0, 0))\n",
    "ax.plot([y.min(), y.max()], [y.min(), y.max()], 'k--', lw=4)\n",
    "ax.set_xlabel('Measured')\n",
    "ax.set_ylabel('Predicted')\n",
    "plt.show()"
   ]
  },
  {
   "cell_type": "code",
   "execution_count": null,
   "metadata": {
    "collapsed": true
   },
   "outputs": [],
   "source": []
  }
 ],
 "metadata": {
  "kernelspec": {
   "display_name": "Python 3",
   "language": "python",
   "name": "python3"
  },
  "language_info": {
   "codemirror_mode": {
    "name": "ipython",
    "version": 3
   },
   "file_extension": ".py",
   "mimetype": "text/x-python",
   "name": "python",
   "nbconvert_exporter": "python",
   "pygments_lexer": "ipython3",
   "version": "3.6.1"
  }
 },
 "nbformat": 4,
 "nbformat_minor": 2
}
