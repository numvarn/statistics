{
 "cells": [
  {
   "cell_type": "markdown",
   "metadata": {},
   "source": [
    "# สถิติ t-test \n",
    "ใช้ทดสอบความแตกต่างหรือเปรียบเทียบค่าเฉลี่ยของกลุ่มตัวอย่าง 2 กลุ่ม <br/>\n",
    "ใช้สำหรับการทดสอบข้อมูลที่มีการแจกแจงแบบปกติ (Normal Distribution) สำหรับตัวอย่าง 2 กลุ่ม มี 2 ลักษณะคือเป็นตัวอย่างที่อิสระกัน \n",
    "<hr/>"
   ]
  },
  {
   "cell_type": "code",
   "execution_count": 243,
   "metadata": {},
   "outputs": [],
   "source": [
    "import pandas as pd\n",
    "import numpy as np\n",
    "from scipy import stats"
   ]
  },
  {
   "cell_type": "code",
   "execution_count": 244,
   "metadata": {
    "collapsed": true
   },
   "outputs": [],
   "source": [
    "data = pd.read_csv('~/Desktop/score.csv')"
   ]
  },
  {
   "cell_type": "code",
   "execution_count": 245,
   "metadata": {},
   "outputs": [
    {
     "data": {
      "text/html": [
       "<div>\n",
       "<style>\n",
       "    .dataframe thead tr:only-child th {\n",
       "        text-align: right;\n",
       "    }\n",
       "\n",
       "    .dataframe thead th {\n",
       "        text-align: left;\n",
       "    }\n",
       "\n",
       "    .dataframe tbody tr th {\n",
       "        vertical-align: top;\n",
       "    }\n",
       "</style>\n",
       "<table border=\"1\" class=\"dataframe\">\n",
       "  <thead>\n",
       "    <tr style=\"text-align: right;\">\n",
       "      <th></th>\n",
       "      <th>score</th>\n",
       "      <th>class</th>\n",
       "    </tr>\n",
       "  </thead>\n",
       "  <tbody>\n",
       "    <tr>\n",
       "      <th>0</th>\n",
       "      <td>18</td>\n",
       "      <td>1</td>\n",
       "    </tr>\n",
       "    <tr>\n",
       "      <th>1</th>\n",
       "      <td>19</td>\n",
       "      <td>1</td>\n",
       "    </tr>\n",
       "    <tr>\n",
       "      <th>2</th>\n",
       "      <td>16</td>\n",
       "      <td>1</td>\n",
       "    </tr>\n",
       "    <tr>\n",
       "      <th>3</th>\n",
       "      <td>15</td>\n",
       "      <td>1</td>\n",
       "    </tr>\n",
       "    <tr>\n",
       "      <th>4</th>\n",
       "      <td>14</td>\n",
       "      <td>1</td>\n",
       "    </tr>\n",
       "  </tbody>\n",
       "</table>\n",
       "</div>"
      ],
      "text/plain": [
       "   score  class\n",
       "0     18      1\n",
       "1     19      1\n",
       "2     16      1\n",
       "3     15      1\n",
       "4     14      1"
      ]
     },
     "execution_count": 245,
     "metadata": {},
     "output_type": "execute_result"
    }
   ],
   "source": [
    "data.head()"
   ]
  },
  {
   "cell_type": "markdown",
   "metadata": {},
   "source": [
    "แบ่งแยกข้อมูลหระหว่างห้องที่ 1 และ 2 จากข้อมูลต้นฉบับ"
   ]
  },
  {
   "cell_type": "code",
   "execution_count": 246,
   "metadata": {},
   "outputs": [],
   "source": [
    "class_1 = data[data['class']==1]\n",
    "class_2 = data[data['class']==2]"
   ]
  },
  {
   "cell_type": "code",
   "execution_count": 247,
   "metadata": {},
   "outputs": [
    {
     "data": {
      "text/html": [
       "<div>\n",
       "<style>\n",
       "    .dataframe thead tr:only-child th {\n",
       "        text-align: right;\n",
       "    }\n",
       "\n",
       "    .dataframe thead th {\n",
       "        text-align: left;\n",
       "    }\n",
       "\n",
       "    .dataframe tbody tr th {\n",
       "        vertical-align: top;\n",
       "    }\n",
       "</style>\n",
       "<table border=\"1\" class=\"dataframe\">\n",
       "  <thead>\n",
       "    <tr style=\"text-align: right;\">\n",
       "      <th></th>\n",
       "      <th>score</th>\n",
       "      <th>class</th>\n",
       "    </tr>\n",
       "  </thead>\n",
       "  <tbody>\n",
       "    <tr>\n",
       "      <th>0</th>\n",
       "      <td>18</td>\n",
       "      <td>1</td>\n",
       "    </tr>\n",
       "    <tr>\n",
       "      <th>1</th>\n",
       "      <td>19</td>\n",
       "      <td>1</td>\n",
       "    </tr>\n",
       "    <tr>\n",
       "      <th>2</th>\n",
       "      <td>16</td>\n",
       "      <td>1</td>\n",
       "    </tr>\n",
       "    <tr>\n",
       "      <th>3</th>\n",
       "      <td>15</td>\n",
       "      <td>1</td>\n",
       "    </tr>\n",
       "    <tr>\n",
       "      <th>4</th>\n",
       "      <td>14</td>\n",
       "      <td>1</td>\n",
       "    </tr>\n",
       "  </tbody>\n",
       "</table>\n",
       "</div>"
      ],
      "text/plain": [
       "   score  class\n",
       "0     18      1\n",
       "1     19      1\n",
       "2     16      1\n",
       "3     15      1\n",
       "4     14      1"
      ]
     },
     "execution_count": 247,
     "metadata": {},
     "output_type": "execute_result"
    }
   ],
   "source": [
    "class_1"
   ]
  },
  {
   "cell_type": "code",
   "execution_count": 248,
   "metadata": {},
   "outputs": [
    {
     "data": {
      "text/html": [
       "<div>\n",
       "<style>\n",
       "    .dataframe thead tr:only-child th {\n",
       "        text-align: right;\n",
       "    }\n",
       "\n",
       "    .dataframe thead th {\n",
       "        text-align: left;\n",
       "    }\n",
       "\n",
       "    .dataframe tbody tr th {\n",
       "        vertical-align: top;\n",
       "    }\n",
       "</style>\n",
       "<table border=\"1\" class=\"dataframe\">\n",
       "  <thead>\n",
       "    <tr style=\"text-align: right;\">\n",
       "      <th></th>\n",
       "      <th>score</th>\n",
       "      <th>class</th>\n",
       "    </tr>\n",
       "  </thead>\n",
       "  <tbody>\n",
       "    <tr>\n",
       "      <th>5</th>\n",
       "      <td>12</td>\n",
       "      <td>2</td>\n",
       "    </tr>\n",
       "    <tr>\n",
       "      <th>6</th>\n",
       "      <td>14</td>\n",
       "      <td>2</td>\n",
       "    </tr>\n",
       "    <tr>\n",
       "      <th>7</th>\n",
       "      <td>13</td>\n",
       "      <td>2</td>\n",
       "    </tr>\n",
       "    <tr>\n",
       "      <th>8</th>\n",
       "      <td>15</td>\n",
       "      <td>2</td>\n",
       "    </tr>\n",
       "    <tr>\n",
       "      <th>9</th>\n",
       "      <td>10</td>\n",
       "      <td>2</td>\n",
       "    </tr>\n",
       "  </tbody>\n",
       "</table>\n",
       "</div>"
      ],
      "text/plain": [
       "   score  class\n",
       "5     12      2\n",
       "6     14      2\n",
       "7     13      2\n",
       "8     15      2\n",
       "9     10      2"
      ]
     },
     "execution_count": 248,
     "metadata": {},
     "output_type": "execute_result"
    }
   ],
   "source": [
    "class_2"
   ]
  },
  {
   "cell_type": "markdown",
   "metadata": {},
   "source": [
    "# การเตรียมข้อมูลเพื่อทดสอบสถิติ t-test\n",
    "การใช้ stat.ttest_ind สำหรับการทำสอบสถิติแบบ t-test นั้น<br/>\n",
    "ต้องจัดเตียมข้อมูลให้อยู่ในรูปแบบของ numpy array<br/>\n",
    "ดึงข้อมูลเฉพาะข้อมูลคะแนนออก Data Frame และเก็บไว้ในโครงสร้างของ numpy array<br/>"
   ]
  },
  {
   "cell_type": "code",
   "execution_count": 249,
   "metadata": {},
   "outputs": [],
   "source": [
    "score_class_1 = np.array(class_1.loc[:, 'score'])\n",
    "score_class_2 = np.array(class_2.loc[:, 'score'])"
   ]
  },
  {
   "cell_type": "code",
   "execution_count": 250,
   "metadata": {},
   "outputs": [
    {
     "data": {
      "text/plain": [
       "array([18, 19, 16, 15, 14])"
      ]
     },
     "execution_count": 250,
     "metadata": {},
     "output_type": "execute_result"
    }
   ],
   "source": [
    "score_class_1"
   ]
  },
  {
   "cell_type": "code",
   "execution_count": 251,
   "metadata": {},
   "outputs": [
    {
     "data": {
      "text/plain": [
       "array([12, 14, 13, 15, 10])"
      ]
     },
     "execution_count": 251,
     "metadata": {},
     "output_type": "execute_result"
    }
   ],
   "source": [
    "score_class_2"
   ]
  },
  {
   "cell_type": "markdown",
   "metadata": {},
   "source": [
    "# ทดสอบสถิติ t-test"
   ]
  },
  {
   "cell_type": "markdown",
   "metadata": {},
   "source": [
    "ใช้ stats.ttest_ind ใน scipy สำหรับทดสอบค่าสถิติ t-test"
   ]
  },
  {
   "cell_type": "code",
   "execution_count": 252,
   "metadata": {},
   "outputs": [
    {
     "data": {
      "text/plain": [
       "Ttest_indResult(statistic=2.8460498941515397, pvalue=0.021609929106014593)"
      ]
     },
     "execution_count": 252,
     "metadata": {},
     "output_type": "execute_result"
    }
   ],
   "source": [
    "stats.ttest_ind(score_class_1, score_class_2)"
   ]
  },
  {
   "cell_type": "markdown",
   "metadata": {},
   "source": [
    "# ตรวจสอบความแตกต่างของค่าเฉลี่ยคะแนนระหว่าง 2 ห้อง"
   ]
  },
  {
   "cell_type": "code",
   "execution_count": 253,
   "metadata": {},
   "outputs": [],
   "source": [
    "mean_of_class = pd.DataFrame({'1.Mean':{\n",
    "                                'Class 1': score_class_1.mean(), \n",
    "                                'Class 2': score_class_2.mean() },\n",
    "                              \n",
    "                              '2. Upper':{\n",
    "                                'Class 1': len([x for x in score_class_1 if x >= score_class_1.mean()]),\n",
    "                                'Class 2': len([x for x in score_class_2 if x >= score_class_2.mean()]) },\n",
    "                              \n",
    "                              '3. Lower':{\n",
    "                                'Class 1': len([x for x in score_class_1 if x < score_class_1.mean()]),\n",
    "                                'Class 2': len([x for x in score_class_2 if x < score_class_2.mean()]) }\n",
    "                             })"
   ]
  },
  {
   "cell_type": "markdown",
   "metadata": {},
   "source": [
    "แสดงผลการเปลียบเทียบความแต่ต่างค่าเฉลี่ยของคะแนนสอบทั้งสองห้อง"
   ]
  },
  {
   "cell_type": "code",
   "execution_count": 254,
   "metadata": {},
   "outputs": [
    {
     "data": {
      "text/html": [
       "<div>\n",
       "<style>\n",
       "    .dataframe thead tr:only-child th {\n",
       "        text-align: right;\n",
       "    }\n",
       "\n",
       "    .dataframe thead th {\n",
       "        text-align: left;\n",
       "    }\n",
       "\n",
       "    .dataframe tbody tr th {\n",
       "        vertical-align: top;\n",
       "    }\n",
       "</style>\n",
       "<table border=\"1\" class=\"dataframe\">\n",
       "  <thead>\n",
       "    <tr style=\"text-align: right;\">\n",
       "      <th></th>\n",
       "      <th>1.Mean</th>\n",
       "      <th>2. Upper</th>\n",
       "      <th>3. Lower</th>\n",
       "    </tr>\n",
       "  </thead>\n",
       "  <tbody>\n",
       "    <tr>\n",
       "      <th>Class 1</th>\n",
       "      <td>16.4</td>\n",
       "      <td>2</td>\n",
       "      <td>3</td>\n",
       "    </tr>\n",
       "    <tr>\n",
       "      <th>Class 2</th>\n",
       "      <td>12.8</td>\n",
       "      <td>3</td>\n",
       "      <td>2</td>\n",
       "    </tr>\n",
       "  </tbody>\n",
       "</table>\n",
       "</div>"
      ],
      "text/plain": [
       "         1.Mean  2. Upper  3. Lower\n",
       "Class 1    16.4         2         3\n",
       "Class 2    12.8         3         2"
      ]
     },
     "execution_count": 254,
     "metadata": {},
     "output_type": "execute_result"
    }
   ],
   "source": [
    "mean_of_class"
   ]
  },
  {
   "cell_type": "markdown",
   "metadata": {},
   "source": [
    "# คำอธิบายการทดสอบทางสถิติ t-test"
   ]
  },
  {
   "cell_type": "markdown",
   "metadata": {},
   "source": [
    "<ul>\n",
    "<li>ถ้าค่า pvalue น้อยกว่า 0.05 แสดงว่าจะปฏิเสธ H0 หมายถึง สองกลุ่ม <strong>'มี'</strong> ความแตกต่างกันอย่างมีนัยสำคัญ <br/></li>\n",
    "<li>ถ้าค่า pvalue มากกว่า 0.05 แสดงว่าไม่สามารถปฏิเสธ H0 หมายถึง สองกลุ่ม <strong>'ไม่มี'</strong> ความแตกต่างกันอย่างมีนัยสำคัญ</li>\n",
    "</ul>"
   ]
  },
  {
   "cell_type": "markdown",
   "metadata": {},
   "source": [
    "# ข้อสรุปจากการวิเคราะห์ข้อมูล"
   ]
  },
  {
   "cell_type": "markdown",
   "metadata": {},
   "source": [
    "การวิเคราะห์ข้อมูลคะแนนสอบของนักศึกษา 2 ห้อง โดยใช้การตรวจสอบทางสถิติ t-test พบว่า <br/>\n",
    "<strong>มีค่า pvalue เท่ากับ 0.027</strong> ซึ่งน้อยกว่า 0.05 ซึ่งทำให้ทราบว่า <br/>\n",
    "คะแนนสอบของนักศึกษา 2 ห้องดังกว่า <strong>มีความแตกต่างกันอย่างมีนัยสำคัญ</strong>\n",
    "<hr/>\n",
    "และจากการตรวจสอบค่าเฉลี่ยของคะแนนสอบระหว่างทั้ง 2 ห้อง <strong>พบว่า ห้องที่ 1 มีค่าเฉลี่ยคะแนนสูงกว่าห้องที่ 2</strong><br/><br/>\n",
    "<strong>โดยห้องที่ 1</strong> มีนักศึกษาจำนวน 5 คน มีคะแนนสอบเฉลี่ยเท่ากับ 16.40\n",
    "<ul>\n",
    "<li>มีนักศึกษาจำนวน 2 คน ที่มีคะแนนสอบ สูง กว่าค่าเฉลี่ย และ</li>\n",
    "<li>มีนักศึกษาจำนวน 3 คน ที่มีคะแนนสอบ ต่ำ กว่าค่าเฉลี่ย</li>\n",
    "</ul>\n",
    "<br/>\n",
    "<strong>โดยห้องที่ 2</strong> มีนักศึกษาจำนวน 5 คน มีคะแนนสอบเฉลี่ยเท่ากับ 12.80\n",
    "<ul>\n",
    "<li>มีนักศึกษาจำนวน 3 คน ที่มีคะแนนสอบ สูง กว่าค่าเฉลี่ย และ</li>\n",
    "<li>มีนักศึกษาจำนวน 2 คน ที่มีคะแนนสอบ ต่ำ กว่าค่าเฉลี่ย</li>\n",
    "</ul>"
   ]
  },
  {
   "cell_type": "code",
   "execution_count": null,
   "metadata": {
    "collapsed": true
   },
   "outputs": [],
   "source": []
  }
 ],
 "metadata": {
  "kernelspec": {
   "display_name": "Python 3",
   "language": "python",
   "name": "python3"
  },
  "language_info": {
   "codemirror_mode": {
    "name": "ipython",
    "version": 3
   },
   "file_extension": ".py",
   "mimetype": "text/x-python",
   "name": "python",
   "nbconvert_exporter": "python",
   "pygments_lexer": "ipython3",
   "version": "3.6.5"
  }
 },
 "nbformat": 4,
 "nbformat_minor": 2
}
