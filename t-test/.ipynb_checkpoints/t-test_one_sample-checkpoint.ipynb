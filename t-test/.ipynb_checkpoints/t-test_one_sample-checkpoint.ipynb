{
 "cells": [
  {
   "cell_type": "markdown",
   "metadata": {},
   "source": [
    "# การวิเคราะห์สถิติค่าเฉลี่ยตัวอย่างกลุ่มเดียว (one sample t-test)"
   ]
  },
  {
   "cell_type": "markdown",
   "metadata": {},
   "source": [
    "การวิเคราะห์สถิติค่าเฉลี่ยตัวอย่างกลุ่มเดียว (one sample t-test) เป็นการทดสอบกลุ่มตัวอย่างกลุ่มเดียวว่าผลการทดสอบนั้นเป็นไปตามเกณฑ์ที่กำหนดหรือไม่ จึงมักเรียกวิธีการทดสอบนี้ว่า การทดสอบค่าเฉลี่ยกับเกณฑ์"
   ]
  },
  {
   "cell_type": "markdown",
   "metadata": {},
   "source": [
    "### ตัวอย่างที่ 1\n",
    "\n",
    "จากการศึกษารายได้เฉลี่ยของพนักงานเพื่อปรับขึ้นเงินเดือน เข้าของบริษัทจึงทำการสุ่มเงินเดือนของพนักงานจากแผนกต่าง ๆ ว่ามีรายได้เท่ากับ 18,000 บาทหรือไม่ โดยการสุ่มเลือกมาจำนวน 15 คนดังต่อไปนี้\n",
    "\n",
    "15400, 16500, 17500, 18500, 19000, <br/> \n",
    "19500, 18700, 18900, 17900, 18300, <br/> \n",
    "20000, 23000, 19400, 16900, 17300\n",
    "\n",
    "จงตรวจสอบว่ารายได้เฉลี่ยของพนักงานแต่ละแผนกเท่ากับ 18,000 บาทหรือไม่ ที่ระดับนัยสำคัญ 0.05"
   ]
  },
  {
   "cell_type": "markdown",
   "metadata": {},
   "source": [
    "## กระบวนการวิเคราะห์\n",
    "\n",
    "**ขั้นที่ 1 : ตั้งสมติฐาน**\n",
    "ให้ mu แทนค่าเฉลี่ยของรายได้ของพนักงานจากแผนกต่าง ๆ <br/>\n",
    "โดย<br/>\n",
    "H0 : mu = 18,000 <br/>\n",
    "H1 : mu != 18,000 <br/>\n",
    "<br/>\n",
    "**ขั้นที่ 2 : กำหนดระดับนัยสำคัญทางสถิติ**<br/>\n",
    "ระดับนัยสำคัญในการทดสอบ เท่ากับ 0.05<br/>\n",
    "\n",
    "**ขั้นที่ 3 : คำนวณค่าสถิติที่ใช้ในการทดสอบสมมติฐาน**<br/>"
   ]
  },
  {
   "cell_type": "code",
   "execution_count": 120,
   "metadata": {
    "collapsed": true
   },
   "outputs": [],
   "source": [
    "%matplotlib inline\n",
    "\n",
    "import numpy as np\n",
    "import pandas as pd\n",
    "from scipy import stats\n",
    "import matplotlib.pyplot as plt"
   ]
  },
  {
   "cell_type": "markdown",
   "metadata": {},
   "source": [
    "กำหนดตัวอย่าง"
   ]
  },
  {
   "cell_type": "code",
   "execution_count": 119,
   "metadata": {
    "collapsed": true
   },
   "outputs": [],
   "source": [
    "data = [15400, 16500, 17500, \n",
    "        18500, 19000, 19500, \n",
    "        18700, 18900, 17900, \n",
    "        18300, 20000, 23000, \n",
    "        19400, 16900, 17300]"
   ]
  },
  {
   "cell_type": "markdown",
   "metadata": {},
   "source": [
    "แปลงข้อมูลป้อนเข้าจาก list ให้อยู่ในรูปของ array"
   ]
  },
  {
   "cell_type": "code",
   "execution_count": 121,
   "metadata": {},
   "outputs": [],
   "source": [
    "arr = np.array(data)"
   ]
  },
  {
   "cell_type": "markdown",
   "metadata": {},
   "source": [
    "กำหนดสมมติฐาน H0 โดยให้ ค่า mu เท่ากับ 18,000"
   ]
  },
  {
   "cell_type": "code",
   "execution_count": 122,
   "metadata": {
    "collapsed": true
   },
   "outputs": [],
   "source": [
    "true_mu = 18000"
   ]
  },
  {
   "cell_type": "markdown",
   "metadata": {},
   "source": [
    "ใช้สถิติทดสอบ one sample t-test \n",
    "โดยเรียกใช้จากโมดูล stats"
   ]
  },
  {
   "cell_type": "code",
   "execution_count": 123,
   "metadata": {},
   "outputs": [],
   "source": [
    "onesample_results = stats.ttest_1samp(arr, true_mu)"
   ]
  },
  {
   "cell_type": "code",
   "execution_count": 124,
   "metadata": {},
   "outputs": [],
   "source": [
    "df = pd.DataFrame({\"1. Mean\":[arr.mean()],\n",
    "                   \"2. S.D.\":[np.std(arr)],\n",
    "                   \"3. Test Statistics\":[onesample_results[0]],\n",
    "                   \"4. Sig\":[onesample_results[1]]})"
   ]
  },
  {
   "cell_type": "code",
   "execution_count": 118,
   "metadata": {},
   "outputs": [
    {
     "data": {
      "text/html": [
       "<div>\n",
       "<style>\n",
       "    .dataframe thead tr:only-child th {\n",
       "        text-align: right;\n",
       "    }\n",
       "\n",
       "    .dataframe thead th {\n",
       "        text-align: left;\n",
       "    }\n",
       "\n",
       "    .dataframe tbody tr th {\n",
       "        vertical-align: top;\n",
       "    }\n",
       "</style>\n",
       "<table border=\"1\" class=\"dataframe\">\n",
       "  <thead>\n",
       "    <tr style=\"text-align: right;\">\n",
       "      <th></th>\n",
       "      <th>0</th>\n",
       "    </tr>\n",
       "  </thead>\n",
       "  <tbody>\n",
       "    <tr>\n",
       "      <th>1. Mean</th>\n",
       "      <td>18453.333</td>\n",
       "    </tr>\n",
       "    <tr>\n",
       "      <th>2. S.D.</th>\n",
       "      <td>1707.578</td>\n",
       "    </tr>\n",
       "    <tr>\n",
       "      <th>3. Test Statistics</th>\n",
       "      <td>0.993</td>\n",
       "    </tr>\n",
       "    <tr>\n",
       "      <th>4. Sig</th>\n",
       "      <td>0.337</td>\n",
       "    </tr>\n",
       "  </tbody>\n",
       "</table>\n",
       "</div>"
      ],
      "text/plain": [
       "                            0\n",
       "1. Mean             18453.333\n",
       "2. S.D.              1707.578\n",
       "3. Test Statistics      0.993\n",
       "4. Sig                  0.337"
      ]
     },
     "execution_count": 118,
     "metadata": {},
     "output_type": "execute_result"
    }
   ],
   "source": [
    "df.round(3).transpose()"
   ]
  },
  {
   "cell_type": "markdown",
   "metadata": {},
   "source": [
    "**ขั้นที่ 4 : สรุปผลการทดสอบสมมติฐาน (โดยใช้ Sig)**<br/>\n",
    "\n",
    "เนื่องจาก Sig(0.337) > 0.05 ดังนั้นไม่สามารถปฏิเสธสมมติฐาน H0 ได้\n",
    "\n",
    "นั้นคือ รายได้เฉลี่ยของพนักงานแต่ละแผนกเท่ากับ 18,000 บาท ภายได้ระดับนัยสำคัญ 0.05"
   ]
  },
  {
   "cell_type": "code",
   "execution_count": null,
   "metadata": {
    "collapsed": true
   },
   "outputs": [],
   "source": []
  }
 ],
 "metadata": {
  "kernelspec": {
   "display_name": "Python 3",
   "language": "python",
   "name": "python3"
  },
  "language_info": {
   "codemirror_mode": {
    "name": "ipython",
    "version": 3
   },
   "file_extension": ".py",
   "mimetype": "text/x-python",
   "name": "python",
   "nbconvert_exporter": "python",
   "pygments_lexer": "ipython3",
   "version": "3.6.1"
  }
 },
 "nbformat": 4,
 "nbformat_minor": 2
}
