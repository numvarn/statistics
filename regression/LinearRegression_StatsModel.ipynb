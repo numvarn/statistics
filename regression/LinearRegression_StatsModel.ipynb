{
 "cells": [
  {
   "cell_type": "markdown",
   "metadata": {},
   "source": [
    "# Linear Regression using StatsModels"
   ]
  },
  {
   "cell_type": "code",
   "execution_count": 40,
   "metadata": {},
   "outputs": [],
   "source": [
    "%matplotlib inline\n",
    "\n",
    "import pandas as pd\n",
    "import numpy as np\n",
    "import statsmodels.api as sm\n",
    "import statsmodels.formula.api as smf\n",
    "import matplotlib.pyplot as plt\n",
    "\n",
    "from statsmodels.stats.anova import anova_lm\n",
    "from sklearn import metrics\n",
    "from pandas.core import datetools"
   ]
  },
  {
   "cell_type": "markdown",
   "metadata": {},
   "source": [
    "อ่านชุดข้อมูลต้นฉบับจากไฟล์ CSV"
   ]
  },
  {
   "cell_type": "code",
   "execution_count": 41,
   "metadata": {
    "collapsed": true
   },
   "outputs": [],
   "source": [
    "df = pd.read_csv('~/ResearchCode/NoteBook/Stats/regression/data/regression.csv', header=None)"
   ]
  },
  {
   "cell_type": "markdown",
   "metadata": {},
   "source": [
    "## 1.การเตรียมข้อมูล"
   ]
  },
  {
   "cell_type": "code",
   "execution_count": 42,
   "metadata": {
    "collapsed": true
   },
   "outputs": [],
   "source": [
    "df.columns = ['X', 'y']"
   ]
  },
  {
   "cell_type": "markdown",
   "metadata": {},
   "source": [
    "ตรวจสอบคุณลักษณะของข้อมูล"
   ]
  },
  {
   "cell_type": "code",
   "execution_count": 43,
   "metadata": {},
   "outputs": [
    {
     "data": {
      "text/html": [
       "<div>\n",
       "<style>\n",
       "    .dataframe thead tr:only-child th {\n",
       "        text-align: right;\n",
       "    }\n",
       "\n",
       "    .dataframe thead th {\n",
       "        text-align: left;\n",
       "    }\n",
       "\n",
       "    .dataframe tbody tr th {\n",
       "        vertical-align: top;\n",
       "    }\n",
       "</style>\n",
       "<table border=\"1\" class=\"dataframe\">\n",
       "  <thead>\n",
       "    <tr style=\"text-align: right;\">\n",
       "      <th></th>\n",
       "      <th>X</th>\n",
       "      <th>y</th>\n",
       "    </tr>\n",
       "  </thead>\n",
       "  <tbody>\n",
       "    <tr>\n",
       "      <th>0</th>\n",
       "      <td>18</td>\n",
       "      <td>10</td>\n",
       "    </tr>\n",
       "    <tr>\n",
       "      <th>1</th>\n",
       "      <td>19</td>\n",
       "      <td>9</td>\n",
       "    </tr>\n",
       "    <tr>\n",
       "      <th>2</th>\n",
       "      <td>16</td>\n",
       "      <td>8</td>\n",
       "    </tr>\n",
       "    <tr>\n",
       "      <th>3</th>\n",
       "      <td>15</td>\n",
       "      <td>7</td>\n",
       "    </tr>\n",
       "    <tr>\n",
       "      <th>4</th>\n",
       "      <td>14</td>\n",
       "      <td>6</td>\n",
       "    </tr>\n",
       "  </tbody>\n",
       "</table>\n",
       "</div>"
      ],
      "text/plain": [
       "    X   y\n",
       "0  18  10\n",
       "1  19   9\n",
       "2  16   8\n",
       "3  15   7\n",
       "4  14   6"
      ]
     },
     "execution_count": 43,
     "metadata": {},
     "output_type": "execute_result"
    }
   ],
   "source": [
    "df.head()"
   ]
  },
  {
   "cell_type": "code",
   "execution_count": 44,
   "metadata": {},
   "outputs": [
    {
     "data": {
      "text/html": [
       "<div>\n",
       "<style>\n",
       "    .dataframe thead tr:only-child th {\n",
       "        text-align: right;\n",
       "    }\n",
       "\n",
       "    .dataframe thead th {\n",
       "        text-align: left;\n",
       "    }\n",
       "\n",
       "    .dataframe tbody tr th {\n",
       "        vertical-align: top;\n",
       "    }\n",
       "</style>\n",
       "<table border=\"1\" class=\"dataframe\">\n",
       "  <thead>\n",
       "    <tr style=\"text-align: right;\">\n",
       "      <th></th>\n",
       "      <th>X</th>\n",
       "      <th>y</th>\n",
       "    </tr>\n",
       "  </thead>\n",
       "  <tbody>\n",
       "    <tr>\n",
       "      <th>count</th>\n",
       "      <td>15.000000</td>\n",
       "      <td>15.000000</td>\n",
       "    </tr>\n",
       "    <tr>\n",
       "      <th>mean</th>\n",
       "      <td>13.733333</td>\n",
       "      <td>4.666667</td>\n",
       "    </tr>\n",
       "    <tr>\n",
       "      <th>std</th>\n",
       "      <td>2.631313</td>\n",
       "      <td>2.794553</td>\n",
       "    </tr>\n",
       "    <tr>\n",
       "      <th>min</th>\n",
       "      <td>10.000000</td>\n",
       "      <td>1.000000</td>\n",
       "    </tr>\n",
       "    <tr>\n",
       "      <th>25%</th>\n",
       "      <td>12.000000</td>\n",
       "      <td>2.500000</td>\n",
       "    </tr>\n",
       "    <tr>\n",
       "      <th>50%</th>\n",
       "      <td>14.000000</td>\n",
       "      <td>4.000000</td>\n",
       "    </tr>\n",
       "    <tr>\n",
       "      <th>75%</th>\n",
       "      <td>15.000000</td>\n",
       "      <td>6.500000</td>\n",
       "    </tr>\n",
       "    <tr>\n",
       "      <th>max</th>\n",
       "      <td>19.000000</td>\n",
       "      <td>10.000000</td>\n",
       "    </tr>\n",
       "  </tbody>\n",
       "</table>\n",
       "</div>"
      ],
      "text/plain": [
       "               X          y\n",
       "count  15.000000  15.000000\n",
       "mean   13.733333   4.666667\n",
       "std     2.631313   2.794553\n",
       "min    10.000000   1.000000\n",
       "25%    12.000000   2.500000\n",
       "50%    14.000000   4.000000\n",
       "75%    15.000000   6.500000\n",
       "max    19.000000  10.000000"
      ]
     },
     "execution_count": 44,
     "metadata": {},
     "output_type": "execute_result"
    }
   ],
   "source": [
    "df.describe()"
   ]
  },
  {
   "cell_type": "code",
   "execution_count": 45,
   "metadata": {},
   "outputs": [
    {
     "name": "stdout",
     "output_type": "stream",
     "text": [
      "<class 'pandas.core.frame.DataFrame'>\n",
      "RangeIndex: 15 entries, 0 to 14\n",
      "Data columns (total 2 columns):\n",
      "X    15 non-null int64\n",
      "y    15 non-null int64\n",
      "dtypes: int64(2)\n",
      "memory usage: 320.0 bytes\n"
     ]
    }
   ],
   "source": [
    "df.info()"
   ]
  },
  {
   "cell_type": "code",
   "execution_count": 46,
   "metadata": {
    "collapsed": true
   },
   "outputs": [],
   "source": [
    "X = df['X']\n",
    "y = df['y']"
   ]
  },
  {
   "cell_type": "markdown",
   "metadata": {},
   "source": [
    "ดูการกระจายตัว และความสัมพันธ์ของข้อมูลโดยการสร้างกราฟแบบ Scatter"
   ]
  },
  {
   "cell_type": "code",
   "execution_count": 47,
   "metadata": {
    "scrolled": true
   },
   "outputs": [
    {
     "data": {
      "text/plain": [
       "<matplotlib.text.Text at 0x11ca628d0>"
      ]
     },
     "execution_count": 47,
     "metadata": {},
     "output_type": "execute_result"
    },
    {
     "data": {
      "image/png": "[encoded data removed]",
      "text/plain": [
       "<matplotlib.figure.Figure at 0x11c9bb400>"
      ]
     },
     "metadata": {},
     "output_type": "display_data"
    }
   ],
   "source": [
    "plt.scatter(X, y)\n",
    "\n",
    "plt.xlabel(\"columns 1 value\")\n",
    "plt.ylabel(\"columns 2 value\")\n",
    "plt.title(\"Relationship between Col 1 and Col 2\")"
   ]
  },
  {
   "cell_type": "markdown",
   "metadata": {},
   "source": [
    "## 2.การสร้างสมการ Regression"
   ]
  },
  {
   "cell_type": "markdown",
   "metadata": {},
   "source": [
    "สมการ Linear regression คือ y = β0 + Xβ1 <br/>\n",
    "<strong>อธิบาย</strong><br/>\n",
    "X = 'A'<br/>\n",
    "y = 'B'<br/>\n",
    "ทำการสร้างสร้างสมการเส้นตรงที่สามารถลากผ่าน X และ y ที่มีความเหมาะสมมากที่สุด โดยใช้ฟังก์ชัน fit() ใน smf.ols"
   ]
  },
  {
   "cell_type": "code",
   "execution_count": 48,
   "metadata": {},
   "outputs": [
    {
     "data": {
      "text/plain": [
       "Intercept   -8.887208\n",
       "X            0.986933\n",
       "dtype: float64"
      ]
     },
     "execution_count": 48,
     "metadata": {},
     "output_type": "execute_result"
    }
   ],
   "source": [
    "model = smf.ols(formula=\"y ~ X\", data=df)\n",
    "results = model.fit()\n",
    "\n",
    "results.params"
   ]
  },
  {
   "cell_type": "markdown",
   "metadata": {},
   "source": [
    "### แสดงค่าสัมประสิทธิการถดถอยที่ได้จากการ fit()\n",
    "β0 - Intercept (ค่าคงที่)<br/>\n",
    "β1 - Coef"
   ]
  },
  {
   "cell_type": "code",
   "execution_count": 49,
   "metadata": {},
   "outputs": [
    {
     "name": "stdout",
     "output_type": "stream",
     "text": [
      "β0 - Model intercept : -8.887\n",
      "β1 - Model slope :     0.987\n",
      "R2 : 0.864\n"
     ]
    }
   ],
   "source": [
    "print(\"β0 - Model intercept : %.3f\" %results.params.Intercept)\n",
    "print(\"β1 - Model slope :     %.3f\" %results.params.X)\n",
    "print('R2 : %.3f' %results.rsquared)"
   ]
  },
  {
   "cell_type": "markdown",
   "metadata": {},
   "source": [
    "### นำเสนอค่าทางสถิติที่เกี่ยวข้องกับโมเดลการทำนายที่สร้างขึ้น และตาราง ANOVA"
   ]
  },
  {
   "cell_type": "code",
   "execution_count": 50,
   "metadata": {
    "scrolled": false
   },
   "outputs": [
    {
     "name": "stdout",
     "output_type": "stream",
     "text": [
      "                            OLS Regression Results                            \n",
      "==============================================================================\n",
      "Dep. Variable:                      y   R-squared:                       0.864\n",
      "Model:                            OLS   Adj. R-squared:                  0.853\n",
      "Method:                 Least Squares   F-statistic:                     82.28\n",
      "Date:                Wed, 04 Apr 2018   Prob (F-statistic):           5.51e-07\n",
      "Time:                        23:23:10   Log-Likelihood:                -21.242\n",
      "No. Observations:                  15   AIC:                             46.48\n",
      "Df Residuals:                      13   BIC:                             47.90\n",
      "Df Model:                           1                                         \n",
      "Covariance Type:            nonrobust                                         \n",
      "==============================================================================\n",
      "                 coef    std err          t      P>|t|      [0.025      0.975]\n",
      "------------------------------------------------------------------------------\n",
      "Intercept     -8.8872      1.520     -5.848      0.000     -12.170      -5.604\n",
      "X              0.9869      0.109      9.071      0.000       0.752       1.222\n",
      "==============================================================================\n",
      "Omnibus:                        2.527   Durbin-Watson:                   1.525\n",
      "Prob(Omnibus):                  0.283   Jarque-Bera (JB):                1.163\n",
      "Skew:                          -0.261   Prob(JB):                        0.559\n",
      "Kurtosis:                       1.740   Cond. No.                         77.1\n",
      "==============================================================================\n",
      "\n",
      "Warnings:\n",
      "[1] Standard Errors assume that the covariance matrix of the errors is correctly specified.\n",
      "\n",
      "\n",
      "ANOVA results\n",
      "            df     sum_sq    mean_sq          F        PR(>F)\n",
      "X          1.0  94.416552  94.416552  82.284184  5.508061e-07\n",
      "Residual  13.0  14.916781   1.147445        NaN           NaN\n"
     ]
    },
    {
     "name": "stderr",
     "output_type": "stream",
     "text": [
      "/Users/phisan/anaconda/lib/python3.6/site-packages/scipy/stats/stats.py:1334: UserWarning: kurtosistest only valid for n>=20 ... continuing anyway, n=15\n",
      "  \"anyway, n=%i\" % int(n))\n",
      "/Users/phisan/anaconda/lib/python3.6/site-packages/scipy/stats/_distn_infrastructure.py:879: RuntimeWarning: invalid value encountered in greater\n",
      "  return (self.a < x) & (x < self.b)\n",
      "/Users/phisan/anaconda/lib/python3.6/site-packages/scipy/stats/_distn_infrastructure.py:879: RuntimeWarning: invalid value encountered in less\n",
      "  return (self.a < x) & (x < self.b)\n",
      "/Users/phisan/anaconda/lib/python3.6/site-packages/scipy/stats/_distn_infrastructure.py:1818: RuntimeWarning: invalid value encountered in less_equal\n",
      "  cond2 = cond0 & (x <= self.a)\n"
     ]
    }
   ],
   "source": [
    "print(results.summary())\n",
    "\n",
    "anova_results = anova_lm(results)\n",
    "\n",
    "print('\\n\\nANOVA results')\n",
    "print(anova_results)"
   ]
  },
  {
   "cell_type": "markdown",
   "metadata": {},
   "source": [
    "### สร้างเส้นตรงที่ลากผ่านข้อมูลจากสมการเส้นตรง\n",
    "สมการ Linear regression คือ <br/>\n",
    "y = β0 + Xβ1 <br/><br/>\n",
    "\n",
    "β0 - Intercept (ค่าคงที่)<br/>\n",
    "β1 - Coef (ค่าสัมประสิทธิการถดถอย) <br/>\n",
    "\n",
    "ดังนั้นการ Implement ในโปรแกรมจะได้ empression ที่ใช้สามารเส้นตรงคือ<br/>\n",
    "yfit = intercept + Xfit*coef"
   ]
  },
  {
   "cell_type": "code",
   "execution_count": 51,
   "metadata": {
    "collapsed": true
   },
   "outputs": [],
   "source": [
    "# Retrieve the parameter estimates\n",
    "intercept, coef = results.params"
   ]
  },
  {
   "cell_type": "code",
   "execution_count": 52,
   "metadata": {
    "collapsed": true
   },
   "outputs": [],
   "source": [
    "Xfit = np.linspace(X.min(), X.max(), len(X))\n",
    "yfit = intercept + Xfit*coef"
   ]
  },
  {
   "cell_type": "code",
   "execution_count": 53,
   "metadata": {},
   "outputs": [
    {
     "data": {
      "image/png": "[encoded data removed]",
      "text/plain": [
       "<matplotlib.figure.Figure at 0x11ce72ba8>"
      ]
     },
     "metadata": {},
     "output_type": "display_data"
    }
   ],
   "source": [
    "plt.scatter(X, y, color='r')\n",
    "\n",
    "plt.title(\"Relationship between X and Col y\")\n",
    "plt.plot(Xfit, yfit, color='k')\n",
    "plt.xlabel('X')\n",
    "plt.ylabel('y')\n",
    "\n",
    "plt.show()"
   ]
  },
  {
   "cell_type": "markdown",
   "metadata": {},
   "source": [
    "## 3.ใช้สมการ Linear Regression ที่ได้ทำนายข้อมูล\n",
    "\n",
    "<ul>\n",
    "<li>จำลอง X_prdict ขึ้นมาด้วยการสุ่มโดยจะต้องอยู่ในช่วงข้อมูลเดียวกับชุดข้อมูลต้นฉบับที่นำมาสร้างโมเดล</li>\n",
    "<li>นำ X_predict ที่จำลองขึ้นไปทดสอบการทำนายโดยโมลที่สร้างขึ้นมา</li>\n",
    "</ul>"
   ]
  },
  {
   "cell_type": "code",
   "execution_count": 54,
   "metadata": {
    "collapsed": true
   },
   "outputs": [],
   "source": [
    "X_predict = np.random.uniform(X.min(), X.max(), len(X))\n",
    "\n",
    "y_predict = results.predict(sm.add_constant(X_predict), transform=False)"
   ]
  },
  {
   "cell_type": "markdown",
   "metadata": {},
   "source": [
    "### นำเสนอความสัมพันธ์ระหว่าง X_predict และ y_predict ในรูปแบบตารางโดยใช้ Data Frame"
   ]
  },
  {
   "cell_type": "code",
   "execution_count": 55,
   "metadata": {},
   "outputs": [
    {
     "data": {
      "text/html": [
       "<div>\n",
       "<style>\n",
       "    .dataframe thead tr:only-child th {\n",
       "        text-align: right;\n",
       "    }\n",
       "\n",
       "    .dataframe thead th {\n",
       "        text-align: left;\n",
       "    }\n",
       "\n",
       "    .dataframe tbody tr th {\n",
       "        vertical-align: top;\n",
       "    }\n",
       "</style>\n",
       "<table border=\"1\" class=\"dataframe\">\n",
       "  <thead>\n",
       "    <tr style=\"text-align: right;\">\n",
       "      <th></th>\n",
       "      <th>X_predict</th>\n",
       "      <th>Y_Predicted</th>\n",
       "    </tr>\n",
       "  </thead>\n",
       "  <tbody>\n",
       "    <tr>\n",
       "      <th>0</th>\n",
       "      <td>12.960959</td>\n",
       "      <td>3.904385</td>\n",
       "    </tr>\n",
       "    <tr>\n",
       "      <th>1</th>\n",
       "      <td>10.929519</td>\n",
       "      <td>1.899491</td>\n",
       "    </tr>\n",
       "    <tr>\n",
       "      <th>2</th>\n",
       "      <td>15.745789</td>\n",
       "      <td>6.652824</td>\n",
       "    </tr>\n",
       "    <tr>\n",
       "      <th>3</th>\n",
       "      <td>15.872347</td>\n",
       "      <td>6.777729</td>\n",
       "    </tr>\n",
       "    <tr>\n",
       "      <th>4</th>\n",
       "      <td>11.356192</td>\n",
       "      <td>2.320588</td>\n",
       "    </tr>\n",
       "    <tr>\n",
       "      <th>5</th>\n",
       "      <td>16.356512</td>\n",
       "      <td>7.255567</td>\n",
       "    </tr>\n",
       "    <tr>\n",
       "      <th>6</th>\n",
       "      <td>15.033770</td>\n",
       "      <td>5.950110</td>\n",
       "    </tr>\n",
       "    <tr>\n",
       "      <th>7</th>\n",
       "      <td>10.409075</td>\n",
       "      <td>1.385847</td>\n",
       "    </tr>\n",
       "    <tr>\n",
       "      <th>8</th>\n",
       "      <td>15.435987</td>\n",
       "      <td>6.347071</td>\n",
       "    </tr>\n",
       "    <tr>\n",
       "      <th>9</th>\n",
       "      <td>16.775797</td>\n",
       "      <td>7.669373</td>\n",
       "    </tr>\n",
       "    <tr>\n",
       "      <th>10</th>\n",
       "      <td>11.782036</td>\n",
       "      <td>2.740868</td>\n",
       "    </tr>\n",
       "    <tr>\n",
       "      <th>11</th>\n",
       "      <td>13.076094</td>\n",
       "      <td>4.018016</td>\n",
       "    </tr>\n",
       "    <tr>\n",
       "      <th>12</th>\n",
       "      <td>16.180437</td>\n",
       "      <td>7.081793</td>\n",
       "    </tr>\n",
       "    <tr>\n",
       "      <th>13</th>\n",
       "      <td>13.320703</td>\n",
       "      <td>4.259428</td>\n",
       "    </tr>\n",
       "    <tr>\n",
       "      <th>14</th>\n",
       "      <td>11.169029</td>\n",
       "      <td>2.135872</td>\n",
       "    </tr>\n",
       "  </tbody>\n",
       "</table>\n",
       "</div>"
      ],
      "text/plain": [
       "    X_predict  Y_Predicted\n",
       "0   12.960959     3.904385\n",
       "1   10.929519     1.899491\n",
       "2   15.745789     6.652824\n",
       "3   15.872347     6.777729\n",
       "4   11.356192     2.320588\n",
       "5   16.356512     7.255567\n",
       "6   15.033770     5.950110\n",
       "7   10.409075     1.385847\n",
       "8   15.435987     6.347071\n",
       "9   16.775797     7.669373\n",
       "10  11.782036     2.740868\n",
       "11  13.076094     4.018016\n",
       "12  16.180437     7.081793\n",
       "13  13.320703     4.259428\n",
       "14  11.169029     2.135872"
      ]
     },
     "execution_count": 55,
     "metadata": {},
     "output_type": "execute_result"
    }
   ],
   "source": [
    "df_predict = pd.DataFrame({'X_predict': X_predict, 'Y_Predicted': y_predict})  \n",
    "\n",
    "df_predict"
   ]
  },
  {
   "cell_type": "markdown",
   "metadata": {},
   "source": [
    "### นำเสนอความสัมพันธ์ระหว่าง X_predict , y_predict และข้อมูลที่นำมาสร้างโมเดล ในรูปแบบตารางโดยกราฟ"
   ]
  },
  {
   "cell_type": "code",
   "execution_count": 56,
   "metadata": {},
   "outputs": [
    {
     "data": {
      "image/png": "[encoded data removed]",
      "text/plain": [
       "<matplotlib.figure.Figure at 0x11c9c7630>"
      ]
     },
     "metadata": {},
     "output_type": "display_data"
    }
   ],
   "source": [
    "plt.scatter(X, y, color='r')\n",
    "plt.scatter(X_predict, y_predict, color='b')\n",
    "plt.plot(Xfit, yfit, color='k');"
   ]
  },
  {
   "cell_type": "markdown",
   "metadata": {},
   "source": [
    "## 4.ประเมินความแม่นย้ำในการทำนายของโมเดล\n",
    "ข้อกำหนด จำนวนของ y_predict จะต้องเท่ากับจำนวน y"
   ]
  },
  {
   "cell_type": "code",
   "execution_count": 57,
   "metadata": {},
   "outputs": [
    {
     "name": "stdout",
     "output_type": "stream",
     "text": [
      "Mean Absolute Error: 3.08\n",
      "Mean Squared Error: 14.32\n",
      "Root Mean Squared Error: 3.78\n"
     ]
    }
   ],
   "source": [
    "print('Mean Absolute Error: %.2f' % metrics.mean_absolute_error(y, y_predict))  \n",
    "print('Mean Squared Error: %.2f' % metrics.mean_squared_error(y, y_predict))  \n",
    "print('Root Mean Squared Error: %.2f' % np.sqrt(metrics.mean_squared_error(y, y_predict)))"
   ]
  },
  {
   "cell_type": "code",
   "execution_count": null,
   "metadata": {
    "collapsed": true
   },
   "outputs": [],
   "source": []
  }
 ],
 "metadata": {
  "kernelspec": {
   "display_name": "Python 3",
   "language": "python",
   "name": "python3"
  },
  "language_info": {
   "codemirror_mode": {
    "name": "ipython",
    "version": 3
   },
   "file_extension": ".py",
   "mimetype": "text/x-python",
   "name": "python",
   "nbconvert_exporter": "python",
   "pygments_lexer": "ipython3",
   "version": "3.6.1"
  }
 },
 "nbformat": 4,
 "nbformat_minor": 2
}
