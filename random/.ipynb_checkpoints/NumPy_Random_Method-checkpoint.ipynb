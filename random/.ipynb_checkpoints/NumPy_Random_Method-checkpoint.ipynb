{
 "cells": [
  {
   "cell_type": "markdown",
   "metadata": {},
   "source": [
    "# การสร้างลำดับเลขสุ่มอย่างง่ายด้วย NumPy\n",
    "\n",
    "1. การสุ่มแบบมีค่า seed\n",
    "1. การสุ่มแบบไม่มีค่า seed\n",
    "1. การสุ่มแบบแทนที่"
   ]
  },
  {
   "cell_type": "code",
   "execution_count": 1,
   "metadata": {
    "collapsed": true
   },
   "outputs": [],
   "source": [
    "import numpy as np"
   ]
  },
  {
   "cell_type": "markdown",
   "metadata": {},
   "source": [
    "### Random with seed number"
   ]
  },
  {
   "cell_type": "code",
   "execution_count": 2,
   "metadata": {},
   "outputs": [
    {
     "name": "stdout",
     "output_type": "stream",
     "text": [
      "[0 1 4 9 9]\n",
      "[0 1 4 9 9]\n",
      "[0 1 4 9 9]\n",
      "[0 1 4 9 9]\n",
      "[0 1 4 9 9]\n"
     ]
    }
   ],
   "source": [
    "for i in range(5):\n",
    "    np.random.seed(10)\n",
    "    arr = np.random.randint(0, 10, 5)\n",
    "    arr.sort()\n",
    "    print(arr)"
   ]
  },
  {
   "cell_type": "markdown",
   "metadata": {},
   "source": [
    "### Random with out seed number"
   ]
  },
  {
   "cell_type": "code",
   "execution_count": 12,
   "metadata": {},
   "outputs": [
    {
     "name": "stdout",
     "output_type": "stream",
     "text": [
      "[7 1 7 1 2]\n",
      "[9 2 7 4 6]\n",
      "[7 3 2 3 9]\n",
      "[2 5 0 7 2]\n",
      "[6 5 7 3 7]\n"
     ]
    }
   ],
   "source": [
    "for i in range(5):\n",
    "    arr = np.random.randint(0, 10, 5)\n",
    "    print(arr)"
   ]
  },
  {
   "cell_type": "code",
   "execution_count": 15,
   "metadata": {},
   "outputs": [
    {
     "name": "stdout",
     "output_type": "stream",
     "text": [
      "[0.66722632 0.39038066 0.21569807 0.07436691 0.85422265]\n",
      "[0.30410984 0.60043366 0.23123764 0.08216801 0.93331456]\n",
      "[0.43474993 0.9713486  0.9937431  0.77515346 0.93844949]\n",
      "[0.28940188 0.27814597 0.09560688 0.35130136 0.77528431]\n",
      "[0.58806441 0.47051716 0.19186677 0.70730845 0.13746905]\n"
     ]
    }
   ],
   "source": [
    "for i in range(5):\n",
    "    arr = np.random.rand(5)\n",
    "    print(arr)"
   ]
  },
  {
   "cell_type": "markdown",
   "metadata": {},
   "source": [
    "### Generate a uniform random sample without replacement:"
   ]
  },
  {
   "cell_type": "code",
   "execution_count": 11,
   "metadata": {},
   "outputs": [
    {
     "name": "stdout",
     "output_type": "stream",
     "text": [
      "[32 34 38 43 49]\n",
      "[24 29 40 48 49]\n",
      "[22 27 35 43 47]\n",
      "[23 24 31 41 42]\n",
      "[21 26 31 39 48]\n"
     ]
    }
   ],
   "source": [
    "interval = range(20, 50)\n",
    "\n",
    "for i in range(5):\n",
    "    arr = np.random.choice(interval, 5, replace=False)\n",
    "    arr.sort()\n",
    "    print(arr)"
   ]
  },
  {
   "cell_type": "markdown",
   "metadata": {
    "collapsed": true
   },
   "source": [
    "### Using Numpy random and convert ndarray to list"
   ]
  },
  {
   "cell_type": "code",
   "execution_count": 18,
   "metadata": {
    "collapsed": true
   },
   "outputs": [],
   "source": [
    "arr = np.random.randint(0, 20, 10).tolist()"
   ]
  },
  {
   "cell_type": "code",
   "execution_count": 19,
   "metadata": {},
   "outputs": [
    {
     "name": "stdout",
     "output_type": "stream",
     "text": [
      "[4, 9, 15, 13, 11, 16, 15, 17, 9, 3]\n"
     ]
    }
   ],
   "source": [
    "print(arr)"
   ]
  }
 ],
 "metadata": {
  "kernelspec": {
   "display_name": "Python 3",
   "language": "python",
   "name": "python3"
  },
  "language_info": {
   "codemirror_mode": {
    "name": "ipython",
    "version": 3
   },
   "file_extension": ".py",
   "mimetype": "text/x-python",
   "name": "python",
   "nbconvert_exporter": "python",
   "pygments_lexer": "ipython3",
   "version": "3.6.1"
  }
 },
 "nbformat": 4,
 "nbformat_minor": 2
}
