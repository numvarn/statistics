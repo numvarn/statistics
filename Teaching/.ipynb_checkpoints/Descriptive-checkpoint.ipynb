{
 "cells": [
  {
   "cell_type": "markdown",
   "metadata": {},
   "source": [
    "# การประมวลผลแบบสอบถามด้วย Descriptive Statistics"
   ]
  },
  {
   "cell_type": "code",
   "execution_count": null,
   "metadata": {
    "collapsed": true
   },
   "outputs": [],
   "source": [
    "import numpy as np\n",
    "import pandas as pd"
   ]
  },
  {
   "cell_type": "markdown",
   "metadata": {},
   "source": [
    "## อ่านข้อมูลจากไฟล์ CSV"
   ]
  },
  {
   "cell_type": "code",
   "execution_count": null,
   "metadata": {
    "collapsed": true
   },
   "outputs": [],
   "source": [
    "data = pd.read_csv(\"/Users/phisan/ResearchCode/NoteBook/Stats/Teaching/data/mean.csv\")"
   ]
  },
  {
   "cell_type": "code",
   "execution_count": null,
   "metadata": {},
   "outputs": [],
   "source": [
    "data.head()"
   ]
  },
  {
   "cell_type": "markdown",
   "metadata": {},
   "source": [
    "## ตรวจสอบ missing data ในแต่ละตัวแปร"
   ]
  },
  {
   "cell_type": "code",
   "execution_count": null,
   "metadata": {},
   "outputs": [],
   "source": [
    "data.isnull().any()"
   ]
  },
  {
   "cell_type": "markdown",
   "metadata": {},
   "source": [
    "## แสดงจำนวนแถวและคอลัมน์"
   ]
  },
  {
   "cell_type": "code",
   "execution_count": null,
   "metadata": {},
   "outputs": [],
   "source": [
    "data.shape"
   ]
  },
  {
   "cell_type": "markdown",
   "metadata": {},
   "source": [
    "## สรุปข้อมูล Nominal และ Ordinal"
   ]
  },
  {
   "cell_type": "markdown",
   "metadata": {},
   "source": [
    "### ข้อมูลเกี่ยวกับเพศ"
   ]
  },
  {
   "cell_type": "code",
   "execution_count": null,
   "metadata": {},
   "outputs": [],
   "source": [
    "sex_counts = data.groupby('sex').size()\n",
    "sex_counts"
   ]
  },
  {
   "cell_type": "markdown",
   "metadata": {},
   "source": [
    "#### คำนวณเปอร์เซ็นต์"
   ]
  },
  {
   "cell_type": "code",
   "execution_count": null,
   "metadata": {},
   "outputs": [],
   "source": [
    "tot_sex = sex_counts.sum()\n",
    "percent = [((i/tot_sex) * 100) for i in sex_counts]"
   ]
  },
  {
   "cell_type": "markdown",
   "metadata": {},
   "source": [
    "#### แสดงผลข้อมูลในรูปแบบ Data Frame"
   ]
  },
  {
   "cell_type": "code",
   "execution_count": null,
   "metadata": {},
   "outputs": [],
   "source": [
    "sex_df = pd.DataFrame({\"1.Label\":['ชาย', 'หญิง'], \"2.Sex\":sex_counts, \"3.Percent\":percent})\n",
    "sex_df"
   ]
  },
  {
   "cell_type": "markdown",
   "metadata": {},
   "source": [
    "### ข้อมูลเกี่ยวกับอายุ"
   ]
  },
  {
   "cell_type": "code",
   "execution_count": null,
   "metadata": {},
   "outputs": [],
   "source": [
    "age_counts = data.groupby('age').size()\n",
    "age_counts"
   ]
  },
  {
   "cell_type": "code",
   "execution_count": null,
   "metadata": {},
   "outputs": [],
   "source": [
    "tot_age = age_counts.sum()\n",
    "percent = [(i / tot_age) * 100 for i in age_counts]"
   ]
  },
  {
   "cell_type": "code",
   "execution_count": null,
   "metadata": {},
   "outputs": [],
   "source": [
    "age_df = pd.DataFrame({\"1.Label\":['ต่ำกว่าหรือเท่ากับ 18 ปี', '19 ปี', '20 ปี', 'มากกว่า 20 ปี'], \n",
    "                       \"2.Sex\":age_counts,\n",
    "                       \"3.Percent\":percent})\n",
    "age_df"
   ]
  },
  {
   "cell_type": "markdown",
   "metadata": {},
   "source": [
    "### ข้อมูลเกี่ยวกับระดับชั้นปี"
   ]
  },
  {
   "cell_type": "code",
   "execution_count": null,
   "metadata": {},
   "outputs": [],
   "source": [
    "level_counts = data.groupby('level').size()\n",
    "level_counts"
   ]
  },
  {
   "cell_type": "code",
   "execution_count": null,
   "metadata": {
    "collapsed": true
   },
   "outputs": [],
   "source": [
    "tot_level = level_counts.sum()\n",
    "percent = [(i / tot_level) * 100 for i in level_counts]"
   ]
  },
  {
   "cell_type": "code",
   "execution_count": null,
   "metadata": {},
   "outputs": [],
   "source": [
    "level_df = pd.DataFrame({\"1.Label\":[\"ชั้นปีที่ 1\", \"ชั้นปีที่ 2\", \"ชั้นปีที่ 3\", \"ชั้นปีที่ 4\", \"ชั้นปีที่ 5\"],\n",
    "                         \"2.Level\":level_counts,\n",
    "                         \"3.Percent\":percent})\n",
    "level_df"
   ]
  },
  {
   "cell_type": "markdown",
   "metadata": {},
   "source": [
    "### ข้อมูลเกี่ยวกับคณะ"
   ]
  },
  {
   "cell_type": "code",
   "execution_count": null,
   "metadata": {},
   "outputs": [],
   "source": [
    "fac_count = data.groupby('faculty').size()\n",
    "fac_count"
   ]
  },
  {
   "cell_type": "code",
   "execution_count": null,
   "metadata": {},
   "outputs": [],
   "source": [
    "tot_fac = fac_count.sum()\n",
    "percent = [(i / tot_fac) * 100 for i in fac_count]\n",
    "fac_df = pd.DataFrame({\"1.Lable\":['ครุศาสตร์', 'บริหารธุรกิจและการบัญชี', 'มนุษย์ศาสตร์', 'ศิลปศาสตร์และวิทยาศาสตร์', 'วิทยาลัยกฎหมายและการปกครอง'],\n",
    "                       \"2.Fac\":fac_count,\n",
    "                       \"3.Percent\":percent})\n",
    "fac_df"
   ]
  },
  {
   "cell_type": "markdown",
   "metadata": {},
   "source": [
    "### ทำการลบคอลัมท์ ข้อมูล Nominal , Ordinal ออกจากข้อมูล"
   ]
  },
  {
   "cell_type": "code",
   "execution_count": null,
   "metadata": {},
   "outputs": [],
   "source": [
    "df = data.drop(['id', 'sex', 'age', 'level', 'faculty'], axis=1)\n",
    "df.head()"
   ]
  },
  {
   "cell_type": "code",
   "execution_count": null,
   "metadata": {},
   "outputs": [],
   "source": [
    "df.shape"
   ]
  },
  {
   "cell_type": "markdown",
   "metadata": {},
   "source": [
    "### แบ่งข้อมูลออกเป็นกลุ่มตามตัวแปร"
   ]
  },
  {
   "cell_type": "code",
   "execution_count": null,
   "metadata": {},
   "outputs": [],
   "source": [
    "y1 = df.loc[:, 'y11':'y15']\n",
    "y1.head()"
   ]
  },
  {
   "cell_type": "code",
   "execution_count": null,
   "metadata": {},
   "outputs": [],
   "source": [
    "y2 = df.loc[:, 'y21':'y25']\n",
    "y2.head()"
   ]
  },
  {
   "cell_type": "code",
   "execution_count": null,
   "metadata": {},
   "outputs": [],
   "source": [
    "y3 = df.loc[:, 'y31':'y35']\n",
    "y3.head()"
   ]
  },
  {
   "cell_type": "markdown",
   "metadata": {},
   "source": [
    "### ทำการหาค่าเฉลี่ย และส่วนเบี่ยงเบนมาตรฐานของตัวแปร y1"
   ]
  },
  {
   "cell_type": "code",
   "execution_count": null,
   "metadata": {},
   "outputs": [],
   "source": [
    "y1.mean()"
   ]
  },
  {
   "cell_type": "code",
   "execution_count": null,
   "metadata": {},
   "outputs": [],
   "source": [
    "y1.std()"
   ]
  },
  {
   "cell_type": "code",
   "execution_count": null,
   "metadata": {
    "collapsed": true
   },
   "outputs": [],
   "source": [
    "label = ['1.รสชาติอาหารและเครื่องดื่ม', \n",
    "         '2.คุณค่าทางอาหารที่ผู้บริการได้รับ', \n",
    "         '3.ความสะอาดของอาหารและเครื่องดื่ม', \n",
    "         '4.ความสะอาดของภาชนะบรรจุอาหาร', \n",
    "         '5.ความรวดเร็วในการให้บริการ']\n",
    "\n",
    "y1_result = {\"Label\":label, \"Mean\":y1.mean(), \"STD\":y1.std()}\n",
    "y1_df = pd.DataFrame(y1_result)"
   ]
  },
  {
   "cell_type": "code",
   "execution_count": null,
   "metadata": {},
   "outputs": [],
   "source": [
    "y1_df"
   ]
  },
  {
   "cell_type": "markdown",
   "metadata": {},
   "source": [
    "### หาค่าเฉลี่ยและส่วนเบี่ยงเบนมาตรฐานรวมของ y1"
   ]
  },
  {
   "cell_type": "code",
   "execution_count": null,
   "metadata": {},
   "outputs": [],
   "source": [
    "y1_tot_mean = y1_df['Mean'].mean()\n",
    "y1_tot_std = y1.stack().std()\n",
    "\n",
    "print(\"Total mean is : {0:.2f}\".format(y1_tot_mean))\n",
    "print(\"Total std is : {0:.2f}\".format(y1_tot_std))"
   ]
  },
  {
   "cell_type": "markdown",
   "metadata": {},
   "source": [
    "### ทำการหาค่าเฉลี่ย และส่วนเบี่ยงเบนมาตรฐานของตัวแปร y2"
   ]
  },
  {
   "cell_type": "code",
   "execution_count": null,
   "metadata": {
    "collapsed": true
   },
   "outputs": [],
   "source": [
    "label = ['1.แต่งกายสะอาด', \n",
    "         '2.ให้บริการด:วยความสุภาพ', \n",
    "         '3.มีความกระตือรือร้นตKอการให้บริการ', \n",
    "         '4.บริการด้วยความเต็มใจ', \n",
    "         '5.มีมนุษย์สัมพันธ์ที่ดีกับผู้รับบริการ']\n",
    "\n",
    "y2_result = {\"Label\":label, \"Mean\":y2.mean(), \"STD\":y2.std()}\n",
    "y2_df = pd.DataFrame(y2_result)"
   ]
  },
  {
   "cell_type": "code",
   "execution_count": null,
   "metadata": {},
   "outputs": [],
   "source": [
    "y2_df"
   ]
  },
  {
   "cell_type": "code",
   "execution_count": null,
   "metadata": {},
   "outputs": [],
   "source": [
    "y2_tot_mean = y2_df['Mean'].mean()\n",
    "y2_tot_std = y2.stack().std()\n",
    "\n",
    "print(\"Total mean is : {0:.2f}\".format(y2_tot_mean))\n",
    "print(\"Total std is : {0:.2f}\".format(y2_tot_std))"
   ]
  },
  {
   "cell_type": "markdown",
   "metadata": {},
   "source": [
    "### ทำการหาค่าเฉลี่ย และส่วนเบี่ยงเบนมาตรฐานของตัวแปร y3"
   ]
  },
  {
   "cell_type": "code",
   "execution_count": null,
   "metadata": {
    "collapsed": true
   },
   "outputs": [],
   "source": [
    "label = ['1.ด้านความเหมาะสมของราคาอาหารเมื่อเทียบกับปริมาณอาหาร', \n",
    "         '2.ราคาอาหารมีความเหมาะสมเมื่อเทียบกับคุณภาพ', \n",
    "         '3.มีป้ายบอกราคาที่เห็นได้ชัดเจน', \n",
    "         '4.เครื่องดื่มมีหลายราคา', \n",
    "         '5.อาหารมีหลากหลายราคา']\n",
    "\n",
    "y3_result = {\"Label\":label, \"Mean\":y3.mean(), \"STD\":y3.std()}\n",
    "y3_df = pd.DataFrame(y3_result)"
   ]
  },
  {
   "cell_type": "code",
   "execution_count": null,
   "metadata": {},
   "outputs": [],
   "source": [
    "y3_df"
   ]
  },
  {
   "cell_type": "code",
   "execution_count": null,
   "metadata": {},
   "outputs": [],
   "source": [
    "y3_tot_mean = y3_df['Mean'].mean()\n",
    "y3_tot_std = y3.stack().std()\n",
    "\n",
    "print(\"Total mean is : {0:.2f}\".format(y3_tot_mean))\n",
    "print(\"Total std is : {0:.2f}\".format(y3_tot_std))"
   ]
  },
  {
   "cell_type": "markdown",
   "metadata": {},
   "source": [
    "## หาค่าเฉลี่ย และส่วนเบี่ยงเบนมาตรฐานรวมของข้อมูลทั้งหมด"
   ]
  },
  {
   "cell_type": "code",
   "execution_count": null,
   "metadata": {},
   "outputs": [],
   "source": [
    "tot_mean = np.array([y1_tot_mean, y2_tot_mean, y3_tot_mean]).mean()"
   ]
  },
  {
   "cell_type": "code",
   "execution_count": null,
   "metadata": {},
   "outputs": [],
   "source": [
    "tot_std = df.stack().std()"
   ]
  },
  {
   "cell_type": "code",
   "execution_count": null,
   "metadata": {},
   "outputs": [],
   "source": [
    "conclude = pd.DataFrame({\"MEAN\":[tot_mean], \"STD\":[tot_std]})\n",
    "conclude"
   ]
  }
 ],
 "metadata": {
  "kernelspec": {
   "display_name": "Python 3",
   "language": "python",
   "name": "python3"
  },
  "language_info": {
   "codemirror_mode": {
    "name": "ipython",
    "version": 3
   },
   "file_extension": ".py",
   "mimetype": "text/x-python",
   "name": "python",
   "nbconvert_exporter": "python",
   "pygments_lexer": "ipython3",
   "version": "3.6.1"
  }
 },
 "nbformat": 4,
 "nbformat_minor": 2
}
